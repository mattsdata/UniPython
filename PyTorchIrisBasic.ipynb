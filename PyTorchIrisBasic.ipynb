{
  "nbformat": 4,
  "nbformat_minor": 0,
  "metadata": {
    "colab": {
      "provenance": [],
      "authorship_tag": "ABX9TyNmw8mbK1Vq4R9YMqNykVPR",
      "include_colab_link": true
    },
    "kernelspec": {
      "name": "python3",
      "display_name": "Python 3"
    },
    "language_info": {
      "name": "python"
    }
  },
  "cells": [
    {
      "cell_type": "markdown",
      "metadata": {
        "id": "view-in-github",
        "colab_type": "text"
      },
      "source": [
        "<a href=\"https://colab.research.google.com/github/mattsdata/UniPython/blob/master/PyTorchIrisBasic.ipynb\" target=\"_parent\"><img src=\"https://colab.research.google.com/assets/colab-badge.svg\" alt=\"Open In Colab\"/></a>"
      ]
    },
    {
      "cell_type": "markdown",
      "source": [
        "Pytorch - Iris data set with ML"
      ],
      "metadata": {
        "id": "m7750EYx8ye0"
      }
    },
    {
      "cell_type": "code",
      "execution_count": null,
      "metadata": {
        "id": "Trdp6zFN8si2"
      },
      "outputs": [],
      "source": [
        "import torch\n",
        "import torch.nn as nn\n",
        "import torch.optim as optim\n",
        "from sklearn.datasets import load_iris\n",
        "from sklearn.model_selection import train_test_split\n",
        "from sklearn.preprocessing import StandardScaler\n",
        "import numpy as np\n",
        "import matplotlib.pyplot as plt\n",
        "from sklearn.metrics import confusion_matrix, ConfusionMatrixDisplay\n",
        "from sklearn.decomposition import PCA"
      ]
    },
    {
      "cell_type": "code",
      "source": [
        "# Load the Iris dataset\n",
        "iris = load_iris()\n",
        "X, y = iris.data, iris.target"
      ],
      "metadata": {
        "id": "CxpE9iYR89de"
      },
      "execution_count": null,
      "outputs": []
    },
    {
      "cell_type": "code",
      "source": [
        "# Split the dataset into training and testing sets\n",
        "X_train, X_test, y_train, y_test = train_test_split(X, y, test_size=0.2, random_state=42)"
      ],
      "metadata": {
        "id": "dSH_IXVV9BO9"
      },
      "execution_count": null,
      "outputs": []
    },
    {
      "cell_type": "code",
      "source": [
        "# Normalize the features\n",
        "scaler = StandardScaler()\n",
        "X_train = scaler.fit_transform(X_train)\n",
        "X_test = scaler.transform(X_test)"
      ],
      "metadata": {
        "id": "D18jXxet9Eat"
      },
      "execution_count": null,
      "outputs": []
    },
    {
      "cell_type": "code",
      "source": [
        "# Convert data to PyTorch tensors\n",
        "X_train_tensor = torch.tensor(X_train, dtype=torch.float32)\n",
        "y_train_tensor = torch.tensor(y_train, dtype=torch.int64)\n",
        "X_test_tensor = torch.tensor(X_test, dtype=torch.float32)\n",
        "y_test_tensor = torch.tensor(y_test, dtype=torch.int64)"
      ],
      "metadata": {
        "id": "bhS9qI1O9NYm"
      },
      "execution_count": null,
      "outputs": []
    },
    {
      "cell_type": "markdown",
      "source": [
        "## Neural Network Architecture"
      ],
      "metadata": {
        "id": "3v7mPzXBAhx9"
      }
    },
    {
      "cell_type": "code",
      "source": [
        "# Define the neural network architecture\n",
        "class NeuralNet(nn.Module):\n",
        "    def __init__(self):\n",
        "        super(NeuralNet, self).__init__()\n",
        "        self.fc1 = nn.Linear(4, 10)\n",
        "        self.fc2 = nn.Linear(10, 3)\n",
        "\n",
        "    def forward(self, x):\n",
        "        x = torch.relu(self.fc1(x))\n",
        "        x = self.fc2(x)\n",
        "        return x"
      ],
      "metadata": {
        "id": "8YgVPE__Am71"
      },
      "execution_count": null,
      "outputs": []
    },
    {
      "cell_type": "code",
      "source": [
        "# Initialize the neural network model\n",
        "model = NeuralNet()"
      ],
      "metadata": {
        "id": "yHLErcJTAtaz"
      },
      "execution_count": null,
      "outputs": []
    },
    {
      "cell_type": "code",
      "source": [
        "# Define loss function and optimizer\n",
        "criterion = nn.CrossEntropyLoss()\n",
        "optimizer = optim.Adam(model.parameters(), lr=0.01)\n"
      ],
      "metadata": {
        "id": "QH7T1Z6uAucs"
      },
      "execution_count": null,
      "outputs": []
    },
    {
      "cell_type": "code",
      "source": [
        "# Train the model\n",
        "num_epochs = 100\n",
        "for epoch in range(num_epochs):\n",
        "    optimizer.zero_grad()\n",
        "    outputs = model(X_train_tensor)\n",
        "    loss = criterion(outputs, y_train_tensor)\n",
        "    loss.backward()\n",
        "    optimizer.step()\n",
        "    if (epoch+1) % 10 == 0:\n",
        "        print(f'Epoch [{epoch+1}/{num_epochs}], Loss: {loss.item():.4f}')"
      ],
      "metadata": {
        "colab": {
          "base_uri": "https://localhost:8080/"
        },
        "id": "UrqBQB-iA0iJ",
        "outputId": "567db25f-8ddc-429e-f576-778447302860"
      },
      "execution_count": null,
      "outputs": [
        {
          "output_type": "stream",
          "name": "stdout",
          "text": [
            "Epoch [10/100], Loss: 0.7878\n",
            "Epoch [20/100], Loss: 0.4775\n",
            "Epoch [30/100], Loss: 0.3328\n",
            "Epoch [40/100], Loss: 0.2626\n",
            "Epoch [50/100], Loss: 0.2104\n",
            "Epoch [60/100], Loss: 0.1666\n",
            "Epoch [70/100], Loss: 0.1332\n",
            "Epoch [80/100], Loss: 0.1102\n",
            "Epoch [90/100], Loss: 0.0949\n",
            "Epoch [100/100], Loss: 0.0846\n"
          ]
        }
      ]
    },
    {
      "cell_type": "code",
      "source": [
        "# Evaluate the model\n",
        "with torch.no_grad():\n",
        "    model.eval()\n",
        "    outputs = model(X_test_tensor)\n",
        "    _, predicted = torch.max(outputs, 1)\n",
        "    accuracy = (predicted == y_test_tensor).sum().item() / len(y_test_tensor)\n",
        "    print(f'Accuracy on test set: {accuracy:.4f}')"
      ],
      "metadata": {
        "colab": {
          "base_uri": "https://localhost:8080/"
        },
        "id": "lpg0lGI0A91-",
        "outputId": "a662a061-cd85-4166-c37e-3e325c295425"
      },
      "execution_count": null,
      "outputs": [
        {
          "output_type": "stream",
          "name": "stdout",
          "text": [
            "Accuracy on test set: 0.9667\n"
          ]
        }
      ]
    },
    {
      "cell_type": "markdown",
      "source": [
        "## Visualize the Result"
      ],
      "metadata": {
        "id": "U4yg-hWCCy6g"
      }
    },
    {
      "cell_type": "markdown",
      "source": [
        "## Matplotlib Visualization"
      ],
      "metadata": {
        "id": "MzTfdrOjF0_B"
      }
    },
    {
      "cell_type": "code",
      "source": [
        "# Calculate confusion matrix\n",
        "conf_matrix = confusion_matrix(y_test, predicted)"
      ],
      "metadata": {
        "id": "-j3h6iaQC39u"
      },
      "execution_count": null,
      "outputs": []
    },
    {
      "cell_type": "code",
      "source": [
        "disp = ConfusionMatrixDisplay(confusion_matrix=conf_matrix, display_labels=iris.target_names)\n",
        "# Plot confusion matrix\n",
        "plt.figure(figsize=(8, 6))\n",
        "disp.plot(cmap='Blues', values_format='d')\n",
        "plt.title('Confusion Matrix')\n",
        "plt.xlabel('Predicted label')\n",
        "plt.ylabel('True label')\n",
        "plt.show()"
      ],
      "metadata": {
        "colab": {
          "base_uri": "https://localhost:8080/",
          "height": 490
        },
        "id": "ll99GmKRDSTO",
        "outputId": "ab634a58-6916-40ac-834a-365a34c73ace"
      },
      "execution_count": null,
      "outputs": [
        {
          "output_type": "display_data",
          "data": {
            "text/plain": [
              "<Figure size 800x600 with 0 Axes>"
            ]
          },
          "metadata": {}
        },
        {
          "output_type": "display_data",
          "data": {
            "text/plain": [
              "<Figure size 640x480 with 2 Axes>"
            ],
            "image/png": "[encoded data removed]"
          },
          "metadata": {}
        }
      ]
    },
    {
      "cell_type": "markdown",
      "source": [
        "## Seaborn Visualization"
      ],
      "metadata": {
        "id": "3ZxbiLS7GDNN"
      }
    },
    {
      "cell_type": "code",
      "source": [
        "import seaborn as sns\n",
        "from sklearn.metrics import confusion_matrix"
      ],
      "metadata": {
        "id": "xzsKkTPOE6X_"
      },
      "execution_count": null,
      "outputs": []
    },
    {
      "cell_type": "code",
      "source": [
        "# Calculate confusion matrix\n",
        "conf_matrix = confusion_matrix(y_test, predicted)\n",
        "\n",
        "# Plot confusion matrix\n",
        "plt.figure(figsize=(8, 6))\n",
        "sns.heatmap(conf_matrix, annot=True, fmt='d', cmap='Blues')\n",
        "plt.title('Confusion Matrix')\n",
        "plt.xlabel('Predicted label')\n",
        "plt.ylabel('True label')\n",
        "plt.show()"
      ],
      "metadata": {
        "colab": {
          "base_uri": "https://localhost:8080/",
          "height": 564
        },
        "id": "Wr35qQuxE9Yi",
        "outputId": "97cd0e8e-7964-43a5-e696-6c24172a827c"
      },
      "execution_count": null,
      "outputs": [
        {
          "output_type": "display_data",
          "data": {
            "text/plain": [
              "<Figure size 800x600 with 2 Axes>"
            ],
            "image/png": "[encoded data removed]"
          },
          "metadata": {}
        }
      ]
    },
    {
      "cell_type": "code",
      "source": [
        "# Define a function to plot decision boundary\n",
        "# def plot_decision_boundary(X, y, model):\n",
        "#     x_min, x_max = X[:, 0].min() - 1, X[:, 0].max() + 1\n",
        "#     y_min, y_max = X[:, 1].min() - 1, X[:, 1].max() + 1\n",
        "#     xx, yy = np.meshgrid(np.arange(x_min, x_max, 0.1),\n",
        "#                          np.arange(y_min, y_max, 0.1))\n",
        "#     Z = model(torch.tensor(np.c_[xx.ravel(), yy.ravel()], dtype=torch.float32)).detach().numpy()\n",
        "#     Z = np.argmax(Z, axis=1)\n",
        "#     Z = Z.reshape(xx.shape)\n",
        "#     plt.contourf(xx, yy, Z, alpha=0.4)\n",
        "#     plt.scatter(X[:, 0], X[:, 1], c=y, s=20, edgecolor='k')\n",
        "#     plt.xlabel('Sepal Length')\n",
        "#     plt.ylabel('Sepal Width')\n",
        "#     plt.title('Decision Boundary')\n",
        "\n",
        "# # Visualize decision boundary\n",
        "# plt.figure(figsize=(8, 6))\n",
        "# plot_decision_boundary(X_test, y_test, model)\n",
        "# plt.show()"
      ],
      "metadata": {
        "id": "RuKBqlgYGiGr"
      },
      "execution_count": null,
      "outputs": []
    },
    {
      "cell_type": "markdown",
      "source": [
        "Predict For new Value"
      ],
      "metadata": {
        "id": "t1sZaY_r3pQy"
      }
    },
    {
      "cell_type": "code",
      "source": [
        "# Define new input data (a single sample) for prediction\n",
        "X_new = [[5.1, 3.5, 1.4, 0.2]]  # Example new input data\n",
        "\n",
        "# Convert the new input data to a PyTorch tensor\n",
        "X_new_tensor = torch.tensor(X_new, dtype=torch.float32)\n",
        "\n",
        "# Set the model to evaluation mode\n",
        "model.eval()\n",
        "\n",
        "# Perform inference on the new input data\n",
        "with torch.no_grad():\n",
        "    outputs = model(X_new_tensor)\n",
        "    _, predicted = torch.max(outputs, 1)\n",
        "\n",
        "# Convert the predicted tensor to a numpy array\n",
        "predicted = predicted.numpy()\n",
        "\n",
        "# Print the predicted class label\n",
        "print(\"Predicted class label for the new input:\")\n",
        "print(predicted)\n"
      ],
      "metadata": {
        "colab": {
          "base_uri": "https://localhost:8080/"
        },
        "id": "L7H5dsO73ntq",
        "outputId": "147f91be-03f7-4bb7-cbbb-62eb5b8cf582"
      },
      "execution_count": null,
      "outputs": [
        {
          "output_type": "stream",
          "name": "stdout",
          "text": [
            "Predicted class label for the new input:\n",
            "[1]\n"
          ]
        }
      ]
    }
  ]
}